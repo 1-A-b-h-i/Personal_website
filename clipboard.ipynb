{
  "nbformat": 4,
  "nbformat_minor": 0,
  "metadata": {
    "colab": {
      "provenance": []
    },
    "kernelspec": {
      "name": "python3",
      "display_name": "Python 3"
    },
    "language_info": {
      "name": "python"
    }
  },
  "cells": [
    {
      "cell_type": "markdown",
      "source": [
        "##N-Queen"
      ],
      "metadata": {
        "id": "qpC-xTp5l1XE"
      }
    },
    {
      "cell_type": "code",
      "execution_count": null,
      "metadata": {
        "id": "qFU4R1aalvWN"
      },
      "outputs": [],
      "source": [
        "def solve_nqueens(board_size):\n",
        "    def is_safe(board, row, col):\n",
        "        for i in range(row):\n",
        "            if board[i] == col or abs(board[i] - col) == row - i:\n",
        "                return False\n",
        "        return True\n",
        "\n",
        "    def solve_nqueens_util(board, row, solutions):\n",
        "        if row == board_size:\n",
        "            solutions.append(board.copy())\n",
        "            return\n",
        "        for col in range(board_size):\n",
        "            if is_safe(board, row, col):\n",
        "                board[row] = col\n",
        "                solve_nqueens_util(board, row+1, solutions)\n",
        "    solutions = []\n",
        "    board = [0]*board_size\n",
        "    solve_nqueens_util(board,0,solutions)\n",
        "    return solutions\n",
        "\n",
        "if __name__ ==\"__main__\":\n",
        "    try:\n",
        "        board_size = int(input(\"Enter chessboard size : \"))\n",
        "        if board_size <= 0:\n",
        "            print(\"Board size must be a positive integer\")\n",
        "        else:\n",
        "            solutions = solve_nqueens(board_size)\n",
        "            print(f\"Found {len(solutions)} solutions : \")\n",
        "            for i, solution in enumerate(solutions):\n",
        "                print(f\"Solution {i+1}: {solution}\")\n",
        "    except ValueError:\n",
        "        print(\"Invalid Output\")"
      ]
    },
    {
      "cell_type": "markdown",
      "source": [
        "##M-Coloring"
      ],
      "metadata": {
        "id": "dz4DMKvil7Jj"
      }
    },
    {
      "cell_type": "code",
      "source": [
        "def is_safe(graph, color, vertex, c):\n",
        "    for i in range(len(graph)):\n",
        "        if graph[vertex][i] == 1 and color[i] == c:\n",
        "            return False\n",
        "    return True\n",
        "\n",
        "def m_coloring_util(graph, m, color, vertex):\n",
        "    if vertex == len(graph):\n",
        "        return True\n",
        "\n",
        "    for c in range(1, m + 1):\n",
        "        if is_safe(graph, color, vertex, c):\n",
        "            color[vertex] = c\n",
        "\n",
        "            if m_coloring_util(graph, m, color, vertex + 1):\n",
        "                return True\n",
        "\n",
        "            color[vertex] = 0  # Backtrack\n",
        "\n",
        "    return False\n",
        "\n",
        "def m_coloring(graph, m):\n",
        "    color = [0] * len(graph)\n",
        "    if m_coloring_util(graph, m, color, 0):\n",
        "        print(\"Solution:\")\n",
        "        for i in range(len(color)):\n",
        "            print(f\"Vertex {i}: Color {color[i]}\")\n",
        "    else:\n",
        "        print(\"No solution exists\")\n",
        "\n",
        "\n",
        "num_vertices = int(input(\"Enter the number of vertices: \"))\n",
        "graph = []\n",
        "print(\"Enter the adjacency matrix (space-separated values for each row):\")\n",
        "for _ in range(num_vertices):\n",
        "    row = list(map(int, input().split()))\n",
        "    graph.append(row)\n",
        "\n",
        "print(\"Graph:\")\n",
        "for row in graph:\n",
        "    print(row)\n",
        "\n",
        "M = 3\n",
        "m_coloring(graph, M)"
      ],
      "metadata": {
        "id": "dSJBqfMJ40Z6"
      },
      "execution_count": null,
      "outputs": []
    },
    {
      "cell_type": "markdown",
      "source": [
        "##Water Jug"
      ],
      "metadata": {
        "id": "JiGsAX0zoQcT"
      }
    },
    {
      "cell_type": "code",
      "source": [
        "from collections import deque\n",
        "\n",
        "def is_goal(state, target):\n",
        "    return target in state\n",
        "\n",
        "def get_next_states(state, A, B):\n",
        "    x, y = state\n",
        "    return [\n",
        "        (A, y),         # Fill Jug A\n",
        "        (x, B),         # Fill Jug B\n",
        "        (0, y),         # Empty Jug A\n",
        "        (x, 0),         # Empty Jug B\n",
        "        (x - min(x, B - y), y + min(x, B - y)),  # Pour A → B\n",
        "        (x + min(y, A - x), y - min(y, A - x))   # Pour B → A\n",
        "    ]\n",
        "\n",
        "def bfs(A, B, target):\n",
        "    visited = set()\n",
        "    queue = deque()\n",
        "    parent = {}\n",
        "\n",
        "    start = (0, 0)\n",
        "    queue.append(start)\n",
        "    visited.add(start)\n",
        "    parent[start] = None\n",
        "\n",
        "    while queue:\n",
        "        state = queue.popleft()\n",
        "        if is_goal(state, target):\n",
        "            # Found the goal, trace the path\n",
        "            path = []\n",
        "            while state:\n",
        "                path.append(state)\n",
        "                state = parent[state]\n",
        "            path.reverse()\n",
        "            return path\n",
        "\n",
        "        for next_state in get_next_states(state, A, B):\n",
        "            if next_state not in visited:\n",
        "                visited.add(next_state)\n",
        "                queue.append(next_state)\n",
        "                parent[next_state] = state\n",
        "\n",
        "    return None\n",
        "\n",
        "# Example Usage\n",
        "if __name__ == '__main__':\n",
        "    A = 4   # Capacity of Jug A\n",
        "    B = 3   # Capacity of Jug B\n",
        "    target = 2\n",
        "\n",
        "    solution = bfs(A, B, target)\n",
        "    if solution:\n",
        "        print(\"Steps to reach the target:\")\n",
        "        for step in solution:\n",
        "            print(f\"Jug A: {step[0]}L, Jug B: {step[1]}L\")\n",
        "    else:\n",
        "        print(\"No solution found.\")\n"
      ],
      "metadata": {
        "id": "ih_R5ThuoPAo",
        "colab": {
          "base_uri": "https://localhost:8080/"
        },
        "outputId": "a39fcc61-5769-481b-a861-fc0d00a45711"
      },
      "execution_count": null,
      "outputs": [
        {
          "output_type": "stream",
          "name": "stdout",
          "text": [
            "✅ Steps to reach the target:\n",
            "Jug A: 0L, Jug B: 0L\n",
            "Jug A: 0L, Jug B: 3L\n",
            "Jug A: 3L, Jug B: 0L\n",
            "Jug A: 3L, Jug B: 3L\n",
            "Jug A: 4L, Jug B: 2L\n"
          ]
        }
      ]
    },
    {
      "cell_type": "markdown",
      "source": [
        "##CSP"
      ],
      "metadata": {
        "id": "R69_txvrmGzf"
      }
    },
    {
      "cell_type": "code",
      "source": [
        "pip install python-constraint\n",
        "from IPython import get_ipython\n",
        "from IPython.display import display\n",
        "import constraint\n",
        "\n",
        "x_min = int(input(\"Enter minimum value for x : \"))\n",
        "x_max = int(input(\"Enter maximum value for x : \"))\n",
        "y_min = int(input(\"Enter minimum value for y : \"))\n",
        "y_max = int(input(\"Enter maximum value for y : \"))\n",
        "\n",
        "problem = constraint.Problem()\n",
        "problem.addVariable('x', range(x_min, x_max + 1))\n",
        "problem.addVariable('y', range(y_min, y_max + 1))\n",
        "\n",
        "def our_constraint(x,y):\n",
        "    if x+y >= 20:\n",
        "        return True\n",
        "\n",
        "problem.addConstraint(our_constraint, ['x','y'])\n",
        "solutions = problem.getSolutions()\n",
        "length = len(solutions)\n",
        "print(\"(x,y) =\\n\", end = \"\")\n",
        "for index, solution in enumerate(solutions):\n",
        "    print(\"({},{})\".format(solution['x'], solution['y']), end=\"\")\n",
        "    if index == length - 1:\n",
        "        break\n",
        "    print(\",\")\n",
        "print(\"}\")"
      ],
      "metadata": {
        "colab": {
          "base_uri": "https://localhost:8080/"
        },
        "id": "Z_TnfXL9mItU",
        "outputId": "48ad6fd8-a462-4b0a-9734-217059fd70ab"
      },
      "execution_count": null,
      "outputs": [
        {
          "output_type": "stream",
          "name": "stdout",
          "text": [
            "Collecting python-constraint\n",
            "  Downloading python-constraint-1.4.0.tar.bz2 (18 kB)\n",
            "  Preparing metadata (setup.py) ... \u001b[?25l\u001b[?25hdone\n",
            "Building wheels for collected packages: python-constraint\n",
            "  Building wheel for python-constraint (setup.py) ... \u001b[?25l\u001b[?25hdone\n",
            "  Created wheel for python-constraint: filename=python_constraint-1.4.0-py2.py3-none-any.whl size=24061 sha256=0439e3a102a98c4197eb82853ea48480c7f07870c7a94fa1a05f5c40e11dc05b\n",
            "  Stored in directory: /root/.cache/pip/wheels/1e/af/a9/990ae7e6a78319b7d7afaab2d14e7e5ae349d5613db5ae28fd\n",
            "Successfully built python-constraint\n",
            "Installing collected packages: python-constraint\n",
            "Successfully installed python-constraint-1.4.0\n"
          ]
        }
      ]
    },
    {
      "cell_type": "markdown",
      "source": [
        "##Crypt_Arithematic"
      ],
      "metadata": {
        "id": "qast7cWmmVXn"
      }
    },
    {
      "cell_type": "code",
      "source": [
        "import itertools\n",
        "\n",
        "def get_value(word, substitution):\n",
        "    s = 0\n",
        "    factor = 1\n",
        "    for letter in reversed(word):\n",
        "        s += factor * substitution[letter]\n",
        "        factor *= 10  # Fix: Multiply factor by 10\n",
        "    return s\n",
        "\n",
        "def solve2(equation):\n",
        "    left, right = equation.lower().replace(' ', '').split('=') # Fix: Remove spaces\n",
        "    left = left.split('+')\n",
        "    letters = set(right)\n",
        "    for word in left:\n",
        "        for letter in word:\n",
        "            letters.add(letter)\n",
        "    letters = list(letters)\n",
        "    digits = range(10)\n",
        "    for perm in itertools.permutations(digits, len(letters)):\n",
        "        sol = dict(zip(letters, perm))\n",
        "        if sum(get_value(word, sol) for word in left) == get_value(right, sol):\n",
        "            print('+'.join(str(get_value(word, sol)) for word in left) + \" = {} (mapping: {})\".format(get_value(right, sol), sol))\n",
        "\n",
        "# Get user input\n",
        "equation = input(\"Enter the cryptarithmetic equation (e.g., SEND+MORE=MONEY): \")\n",
        "solve2(equation)"
      ],
      "metadata": {
        "id": "EdJ1d04nmYX7"
      },
      "execution_count": null,
      "outputs": []
    },
    {
      "cell_type": "markdown",
      "source": [
        "##Alpha-Beta"
      ],
      "metadata": {
        "id": "2M0m62w9nFqw"
      }
    },
    {
      "cell_type": "code",
      "source": [
        "import math\n",
        "nodes_visited = []\n",
        "MAX, MIN = 1000, -1000\n",
        "\n",
        "def minimax(cur_depth, node_index, max_turn, scores, target_depth, b_factor, alpha, beta):\n",
        "    if cur_depth == target_depth:\n",
        "        return scores[node_index]\n",
        "    if max_turn:\n",
        "        largest = None\n",
        "        for i in range(b_factor):\n",
        "            index = node_index * b_factor + i\n",
        "            if index >= len(scores):\n",
        "                continue\n",
        "            cur = minimax(cur_depth + 1, index, False, scores, target_depth, b_factor, alpha, beta)\n",
        "            if largest is None or cur > largest:\n",
        "                largest = cur\n",
        "            alpha = max(alpha, largest)\n",
        "            nodes_visited.append(cur)\n",
        "            if beta <= alpha:\n",
        "                break\n",
        "        return largest\n",
        "    else:\n",
        "        smallest = None\n",
        "        for i in range(b_factor):\n",
        "            index = node_index * b_factor + i\n",
        "            if index >= len(scores):\n",
        "                continue\n",
        "            cur = minimax(cur_depth + 1, index, True, scores, target_depth, b_factor, alpha, beta)\n",
        "            if smallest is None or cur < smallest:\n",
        "                smallest = cur\n",
        "            beta = min(beta, smallest)\n",
        "            nodes_visited.append(cur)\n",
        "            if beta <= alpha:\n",
        "                break\n",
        "        return smallest\n",
        "\n",
        "scores = [int(s) for s in input(\"Enter the scores: \").split()]\n",
        "b_factor = int(input(\"Enter the branching factor: \"))\n",
        "player = int(input(\"Maximizer or minimizer? (Enter 1 for maximizer and 0 for minimizer): \"))\n",
        "tree_depth = math.ceil(math.log(len(scores), b_factor))\n",
        "print(\"The optimal value is:\", end=\"\")\n",
        "print(minimax(0, 0, player, scores, tree_depth, b_factor, MIN, MAX))\n",
        "\n",
        "diff = []\n",
        "for i in scores:\n",
        "    if i not in nodes_visited:\n",
        "        diff.append(i)\n",
        "if not diff:\n",
        "    print(\"No nodes were pruned\")\n",
        "else:\n",
        "    print(\"Pruned nodes are:\")\n",
        "    for i in diff:\n",
        "        print(i, sep='')"
      ],
      "metadata": {
        "id": "qSn7Qo3PnJww"
      },
      "execution_count": null,
      "outputs": []
    },
    {
      "cell_type": "markdown",
      "source": [
        "##MiniMax"
      ],
      "metadata": {
        "id": "GZnAGu_MnS66"
      }
    },
    {
      "cell_type": "code",
      "source": [
        "import math\n",
        "\n",
        "def minimax(cur_depth, node_index, max_turn, scores, target_depth, b_factor):\n",
        "    if cur_depth == target_depth:\n",
        "        return scores[node_index]\n",
        "    if (max_turn):\n",
        "        largest = None\n",
        "        for i in range(b_factor):\n",
        "            index = node_index * b_factor + i\n",
        "            if index >= len(scores):\n",
        "                continue\n",
        "            cur = minimax(cur_depth + 1, index, False, scores, target_depth, b_factor)\n",
        "            if largest is None or cur > largest:\n",
        "                largest = cur\n",
        "        return largest\n",
        "    else:\n",
        "        smallest = None\n",
        "        for i in range(b_factor):\n",
        "            index = node_index * b_factor + i\n",
        "            if index >= len(scores):\n",
        "                continue\n",
        "            cur = minimax(cur_depth + 1, index, True, scores, target_depth, b_factor)\n",
        "            if smallest is None or cur < smallest:\n",
        "                smallest = cur\n",
        "        return smallest\n",
        "\n",
        "scores = [int(s) for s in input(\"Enter the scores: \").split()]\n",
        "b_factor = int(input(\"enter the branching factor: \"))\n",
        "player = int(input(\"maximizer or minimizer? (Enter 1 for maximizer and 0 for minimizer): \"))\n",
        "print(player)\n",
        "tree_depth = math.ceil(math.log(len(scores), b_factor))\n",
        "print(\"the optimal value is:\", end=\"\")\n",
        "print(minimax(0, 0, player, scores, tree_depth, b_factor))"
      ],
      "metadata": {
        "id": "1kv5NquJnUZ3"
      },
      "execution_count": null,
      "outputs": []
    },
    {
      "cell_type": "markdown",
      "source": [
        "##Sparse Matrix"
      ],
      "metadata": {
        "id": "-Aq5eyCznXoc"
      }
    },
    {
      "cell_type": "code",
      "source": [
        "def analyze_matrix(matrix):\n",
        "    if not matrix:\n",
        "        return 0, 0\n",
        "\n",
        "    n = len(matrix)\n",
        "    visited = [[False] * n for _ in range(n)]\n",
        "    max_zeros = 0\n",
        "    island_count = 0\n",
        "\n",
        "    def dfs(x, y, is_zero_patch):\n",
        "        if x < 0 or x >= n or y < 0 or y >= n or visited[x][y]:\n",
        "            return 0\n",
        "        if (is_zero_patch and matrix[x][y] == 1) or (not is_zero_patch and matrix[x][y] == 0):\n",
        "            return 0\n",
        "\n",
        "        visited[x][y] = True\n",
        "        count = 1\n",
        "\n",
        "        count += dfs(x + 1, y, is_zero_patch)\n",
        "        count += dfs(x - 1, y, is_zero_patch)\n",
        "        count += dfs(x, y + 1, is_zero_patch)\n",
        "        count += dfs(x, y - 1, is_zero_patch)\n",
        "        return count\n",
        "\n",
        "    for i in range(n):\n",
        "        for j in range(n):\n",
        "            if matrix[i][j] == 0 and not visited[i][j]:\n",
        "                max_zeros = max(max_zeros, dfs(i, j, True))\n",
        "            elif matrix[i][j] == 1 and not visited[i][j]:\n",
        "                island_count += 1\n",
        "                dfs(i, j, False)\n",
        "\n",
        "    return max_zeros, island_count\n",
        "\n",
        "\n",
        "matrix = [\n",
        "    [1, 0, 0, 1, 1],\n",
        "    [0, 0, 1, 0, 0],\n",
        "    [1, 0, 0, 0, 1],\n",
        "    [1, 1, 1, 0, 0],\n",
        "    [0, 0, 0, 1, 1]\n",
        "]\n",
        "\n",
        "\n",
        "largest_patch, number_of_islands = analyze_matrix(matrix)\n",
        "print(\"The largest patch of zeros has size:\", largest_patch)\n",
        "print(\"The number of islands is:\", number_of_islands)"
      ],
      "metadata": {
        "id": "c5OPrNeCneWn"
      },
      "execution_count": null,
      "outputs": []
    },
    {
      "cell_type": "markdown",
      "source": [
        "##Rotten-Oranges"
      ],
      "metadata": {
        "id": "lhoHXr-CnhFt"
      }
    },
    {
      "cell_type": "code",
      "source": [
        "from collections import deque\n",
        "\n",
        "def orangesRotting(grid):\n",
        "    if not grid:\n",
        "        return -1\n",
        "\n",
        "    rows, cols = len(grid), len(grid[0])\n",
        "    queue = deque()\n",
        "    fresh_count = 0\n",
        "\n",
        "    for r in range(rows):\n",
        "        for c in range(cols):\n",
        "            if grid[r][c] == 2:\n",
        "                queue.append((r, c))\n",
        "            elif grid[r][c] == 1:\n",
        "                fresh_count += 1\n",
        "\n",
        "    directions = [(0, 1), (1, 0), (0, -1), (-1, 0)]\n",
        "    minutes = 0\n",
        "\n",
        "    while queue and fresh_count > 0:\n",
        "        for _ in range(len(queue)):\n",
        "            x, y = queue.popleft()\n",
        "            for dx, dy in directions:\n",
        "                nx, ny = x + dx, y + dy\n",
        "                if 0 <= nx < rows and 0 <= ny < cols and grid[nx][ny] == 1:\n",
        "                    grid[nx][ny] = 2\n",
        "                    fresh_count -= 1\n",
        "                    queue.append((nx, ny))\n",
        "        minutes += 1\n",
        "\n",
        "    return minutes if fresh_count == 0 else -1\n",
        "\n",
        "# Get user input for the grid\n",
        "rows = int(input(\"Enter the number of rows: \"))\n",
        "cols = int(input(\"Enter the number of columns: \"))\n",
        "\n",
        "grid = []\n",
        "print(\"Enter the grid elements row-wise (0 for empty, 1 for fresh, 2 for rotten):\")\n",
        "for _ in range(rows):\n",
        "    row = list(map(int, input().split()))\n",
        "    grid.append(row)\n",
        "\n",
        "result = orangesRotting(grid)\n",
        "print(\"Minimum time to rot all oranges:\", result)"
      ],
      "metadata": {
        "id": "vDR6ZqAgnv9J"
      },
      "execution_count": null,
      "outputs": []
    },
    {
      "cell_type": "markdown",
      "source": [
        "##Water Connection"
      ],
      "metadata": {
        "id": "DQ1Bm81Kn0D4"
      }
    },
    {
      "cell_type": "code",
      "source": [
        "def find_min_weight_paths(num_nodes, connections):\n",
        "\n",
        "    parents = [0] * (num_nodes + 1)\n",
        "    weights = [0] * (num_nodes + 1)\n",
        "    children = [0] * (num_nodes + 1)\n",
        "\n",
        "    for start, end, weight in connections:\n",
        "        children[start] = end\n",
        "        weights[start] = weight\n",
        "        parents[end] = start\n",
        "\n",
        "    min_weight_paths = []\n",
        "    for node in range(1, num_nodes + 1):\n",
        "        if parents[node] == 0 and children[node]:  # Check if it's a root node with children.\n",
        "            min_weight = float('inf')\n",
        "            current_node = node\n",
        "\n",
        "            while children[current_node] != 0:\n",
        "                min_weight = min(min_weight, weights[current_node])\n",
        "                current_node = children[current_node]\n",
        "\n",
        "            min_weight_paths.append((node, current_node, min_weight))\n",
        "\n",
        "    return min_weight_paths\n",
        "\n",
        "\n",
        "if __name__ == \"__main__\":\n",
        "    num_nodes = int(input(\"Enter the number of nodes: \"))\n",
        "    num_connections = int(input(\"Enter the number of connections: \"))\n",
        "\n",
        "    connections = []\n",
        "    print(\"Enter the connections (start_node end_node weight) one by one:\")\n",
        "    for _ in range(num_connections):\n",
        "        start, end, weight = map(int, input().split())\n",
        "        connections.append((start, end, weight))\n",
        "\n",
        "    paths = find_min_weight_paths(num_nodes, connections)\n",
        "    print(\"Number of independent paths:\", len(paths))\n",
        "    for start, end, min_weight in paths:\n",
        "        print(f\"Start Node: {start}, End Node: {end}, Minimum Weight: {min_weight}\")\n"
      ],
      "metadata": {
        "id": "Um16kCWSn2Np"
      },
      "execution_count": null,
      "outputs": []
    },
    {
      "cell_type": "markdown",
      "source": [
        "##Graph Connection"
      ],
      "metadata": {
        "id": "d2CUV2zaoYWA"
      }
    },
    {
      "cell_type": "code",
      "source": [
        "def dfs(graph, node, visited):\n",
        "    visited.add(node)\n",
        "    for neighbor in graph.get(node, []):\n",
        "        if neighbor not in visited:\n",
        "            dfs(graph, neighbor, visited)\n",
        "\n",
        "def is_connected(graph):\n",
        "    nodes = list(graph.keys())\n",
        "    if not nodes:\n",
        "        return True\n",
        "    visited = set()\n",
        "    dfs(graph, nodes[0], visited)\n",
        "    return len(visited) == len(nodes)\n",
        "\n",
        "def get_graph_from_user():\n",
        "    graph = {}\n",
        "    n = int(input(\"Enter the number of Nodes: \"))\n",
        "\n",
        "    for _ in range(n):\n",
        "        node = input(\"Enter the node name: \")\n",
        "        neighbors = input(f\"Enter the neighbors of {node} (comma-separated): \").split(\",\")\n",
        "        neighbors = [neighbor.strip() for neighbor in neighbors]\n",
        "        graph[node] = neighbors\n",
        "\n",
        "    print(graph)\n",
        "    if is_connected(graph):\n",
        "        print(\"The graph is connected.\")\n",
        "    else:\n",
        "        print(\"The graph is disconnected.\")\n",
        "\n",
        "\n",
        "get_graph_from_user()"
      ],
      "metadata": {
        "id": "ModWTOSsoaLv",
        "colab": {
          "base_uri": "https://localhost:8080/"
        },
        "outputId": "6fdd85e7-415f-408e-f1e6-141617a6dfa1"
      },
      "execution_count": null,
      "outputs": [
        {
          "output_type": "stream",
          "name": "stdout",
          "text": [
            "Enter the number of Nodes: 4\n",
            "Enter the node name: A\n",
            "Enter the neighbors of A (comma-separated): B,C\n",
            "Enter the node name: B\n",
            "Enter the neighbors of B (comma-separated): A,D\n",
            "Enter the node name: C\n",
            "Enter the neighbors of C (comma-separated): A,D\n",
            "Enter the node name: D\n",
            "Enter the neighbors of D (comma-separated): B,C\n",
            "{'A': ['B', 'C'], 'B': ['A', 'D'], 'C': ['A', 'D'], 'D': ['B', 'C']}\n",
            "The graph is connected.\n"
          ]
        }
      ]
    },
    {
      "cell_type": "markdown",
      "source": [
        "##Crossover (genetic)"
      ],
      "metadata": {
        "id": "A8vy7e-xoc3t"
      }
    },
    {
      "cell_type": "code",
      "source": [
        "def crossover(s1, s2, start, end):\n",
        "    s1 = str(s1)\n",
        "    s2 = str(s2)\n",
        "    s1_list = list(s1)\n",
        "    s2_list = list(s2)\n",
        "\n",
        "    s1_list[start:end], s2_list[start:end] = s2_list[start:end], s1_list[start:end]\n",
        "\n",
        "    child_s1 = ''.join(s1_list)\n",
        "    child_s2 = ''.join(s2_list)\n",
        "\n",
        "    return child_s1, child_s2\n",
        "s1 = int(input(\"Enter the first parent: \"))\n",
        "s2 = int(input(\"Enter the second parent: \"))\n",
        "start = int(input(\"Enter the start index: \"))\n",
        "end = int(input(\"Enter the end index: \"))\n",
        "child_s1, child_s2 = crossover(s1, s2, start, end)\n",
        "print(f\"Original s1: {s1}, Original s2: {s2}\")\n",
        "print(f\"Child s1: {child_s1}, Child s2: {child_s2}\")"
      ],
      "metadata": {
        "id": "T462V2MVoe-C",
        "outputId": "eac650a9-abde-4719-bc9a-140d4550334b",
        "colab": {
          "base_uri": "https://localhost:8080/"
        }
      },
      "execution_count": null,
      "outputs": [
        {
          "output_type": "stream",
          "name": "stdout",
          "text": [
            "Enter the first parent: 574890\n",
            "Enter the second parent: 785423\n",
            "Enter the start index: 0\n",
            "Enter the end index: 5\n",
            "Original s1: 574890, Original s2: 785423\n",
            "Child s1: 785420, Child s2: 574893\n"
          ]
        }
      ]
    },
    {
      "cell_type": "markdown",
      "source": [
        "##Tic-Tac-Toe"
      ],
      "metadata": {
        "id": "nXZ-c1G8oiUB"
      }
    },
    {
      "cell_type": "code",
      "source": [
        "def tic_tac_toe(mat):\n",
        "    x,o = 0,0\n",
        "    coord = []\n",
        "    for i in range(3):\n",
        "        for j in range(3):\n",
        "            if mat[i][j]==1:\n",
        "                x+=1\n",
        "            elif mat[i][j]==2:\n",
        "                o+=1\n",
        "            else:\n",
        "                coord.append([i,j])\n",
        "    return \"Player X\" if o>x else \"Player O\",coord\n",
        "matrix = [[1, 0, 2],[0, 2, 0],[1, 0, 1]]\n",
        "move,coord = tic_tac_toe(matrix)\n",
        "print(\"Next Move Belongs to\",move)\n",
        "print(\"Available Moves :\",coord)\n"
      ],
      "metadata": {
        "id": "UkKinZXioygd",
        "colab": {
          "base_uri": "https://localhost:8080/"
        },
        "outputId": "9f43fd67-6bda-41c9-ae55-13d2e8e59bda"
      },
      "execution_count": null,
      "outputs": [
        {
          "output_type": "stream",
          "name": "stdout",
          "text": [
            "Current Board:\n",
            "X | O |  \n",
            "-----\n",
            "X |   | O\n",
            "-----\n",
            "O |   |  \n",
            "-----\n",
            "Possible moves for X:\n",
            "Row 0, Col 2\n",
            "Row 1, Col 1\n",
            "Row 2, Col 1\n",
            "Row 2, Col 2\n"
          ]
        }
      ]
    }
  ]
}